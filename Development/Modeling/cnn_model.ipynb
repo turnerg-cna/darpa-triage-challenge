{
 "cells": [
  {
   "cell_type": "code",
   "execution_count": 39,
   "metadata": {},
   "outputs": [],
   "source": [
    "# import packages\n",
    "import numpy as np\n",
    "import pandas as pd\n",
    "import matplotlib.pyplot as plt\n",
    "import seaborn as sns"
   ]
  },
  {
   "cell_type": "markdown",
   "metadata": {},
   "source": [
    "### Downloading Dataset"
   ]
  },
  {
   "cell_type": "code",
   "execution_count": 40,
   "metadata": {},
   "outputs": [],
   "source": [
    "#loading linear interpolation dataset \n",
    "train_data = pd.read_csv('train_models_linear_interp.csv')\n",
    "test_data = pd.read_csv('test_models_linear_interp.csv')"
   ]
  },
  {
   "cell_type": "code",
   "execution_count": 41,
   "metadata": {},
   "outputs": [
    {
     "data": {
      "text/html": [
       "<div>\n",
       "<style scoped>\n",
       "    .dataframe tbody tr th:only-of-type {\n",
       "        vertical-align: middle;\n",
       "    }\n",
       "\n",
       "    .dataframe tbody tr th {\n",
       "        vertical-align: top;\n",
       "    }\n",
       "\n",
       "    .dataframe thead th {\n",
       "        text-align: right;\n",
       "    }\n",
       "</style>\n",
       "<table border=\"1\" class=\"dataframe\">\n",
       "  <thead>\n",
       "    <tr style=\"text-align: right;\">\n",
       "      <th></th>\n",
       "      <th>subject</th>\n",
       "      <th>age_group</th>\n",
       "      <th>brach_t_0</th>\n",
       "      <th>brach_t_1</th>\n",
       "      <th>brach_t_2</th>\n",
       "      <th>brach_t_3</th>\n",
       "      <th>brach_t_4</th>\n",
       "      <th>brach_t_5</th>\n",
       "      <th>brach_t_6</th>\n",
       "      <th>brach_t_7</th>\n",
       "      <th>...</th>\n",
       "      <th>aorta_t_326</th>\n",
       "      <th>aorta_t_327</th>\n",
       "      <th>aorta_t_328</th>\n",
       "      <th>aorta_t_329</th>\n",
       "      <th>aorta_t_330</th>\n",
       "      <th>aorta_t_331</th>\n",
       "      <th>aorta_t_332</th>\n",
       "      <th>aorta_t_333</th>\n",
       "      <th>aorta_t_334</th>\n",
       "      <th>aorta_t_335</th>\n",
       "    </tr>\n",
       "  </thead>\n",
       "  <tbody>\n",
       "    <tr>\n",
       "      <td>0</td>\n",
       "      <td>0</td>\n",
       "      <td>0</td>\n",
       "      <td>62.564351</td>\n",
       "      <td>53.747516</td>\n",
       "      <td>56.925071</td>\n",
       "      <td>58.866651</td>\n",
       "      <td>57.742082</td>\n",
       "      <td>58.623726</td>\n",
       "      <td>59.505370</td>\n",
       "      <td>60.387014</td>\n",
       "      <td>...</td>\n",
       "      <td>75.389672</td>\n",
       "      <td>77.975023</td>\n",
       "      <td>72.213031</td>\n",
       "      <td>80.702144</td>\n",
       "      <td>75.202017</td>\n",
       "      <td>76.878189</td>\n",
       "      <td>75.906016</td>\n",
       "      <td>78.648127</td>\n",
       "      <td>71.645146</td>\n",
       "      <td>73.536448</td>\n",
       "    </tr>\n",
       "    <tr>\n",
       "      <td>1</td>\n",
       "      <td>1</td>\n",
       "      <td>0</td>\n",
       "      <td>75.088914</td>\n",
       "      <td>76.218639</td>\n",
       "      <td>77.348365</td>\n",
       "      <td>78.478090</td>\n",
       "      <td>79.607816</td>\n",
       "      <td>80.737541</td>\n",
       "      <td>81.867267</td>\n",
       "      <td>82.996992</td>\n",
       "      <td>...</td>\n",
       "      <td>89.087360</td>\n",
       "      <td>95.670739</td>\n",
       "      <td>91.242212</td>\n",
       "      <td>93.323301</td>\n",
       "      <td>90.106979</td>\n",
       "      <td>93.491525</td>\n",
       "      <td>90.860328</td>\n",
       "      <td>91.587882</td>\n",
       "      <td>91.098254</td>\n",
       "      <td>90.970382</td>\n",
       "    </tr>\n",
       "    <tr>\n",
       "      <td>2</td>\n",
       "      <td>2</td>\n",
       "      <td>1</td>\n",
       "      <td>74.000363</td>\n",
       "      <td>71.772635</td>\n",
       "      <td>73.136652</td>\n",
       "      <td>72.148745</td>\n",
       "      <td>73.149230</td>\n",
       "      <td>73.408397</td>\n",
       "      <td>79.258698</td>\n",
       "      <td>74.625452</td>\n",
       "      <td>...</td>\n",
       "      <td>85.012398</td>\n",
       "      <td>81.802379</td>\n",
       "      <td>81.542184</td>\n",
       "      <td>86.691045</td>\n",
       "      <td>80.115917</td>\n",
       "      <td>81.133328</td>\n",
       "      <td>84.461758</td>\n",
       "      <td>76.700464</td>\n",
       "      <td>80.231444</td>\n",
       "      <td>86.387109</td>\n",
       "    </tr>\n",
       "    <tr>\n",
       "      <td>3</td>\n",
       "      <td>5</td>\n",
       "      <td>3</td>\n",
       "      <td>79.105321</td>\n",
       "      <td>75.754364</td>\n",
       "      <td>77.246761</td>\n",
       "      <td>69.883390</td>\n",
       "      <td>81.779215</td>\n",
       "      <td>80.695538</td>\n",
       "      <td>79.775038</td>\n",
       "      <td>82.935343</td>\n",
       "      <td>...</td>\n",
       "      <td>82.820390</td>\n",
       "      <td>79.766236</td>\n",
       "      <td>77.329335</td>\n",
       "      <td>76.836107</td>\n",
       "      <td>79.570856</td>\n",
       "      <td>76.937290</td>\n",
       "      <td>75.432001</td>\n",
       "      <td>83.340827</td>\n",
       "      <td>83.340925</td>\n",
       "      <td>73.351726</td>\n",
       "    </tr>\n",
       "    <tr>\n",
       "      <td>4</td>\n",
       "      <td>6</td>\n",
       "      <td>0</td>\n",
       "      <td>79.110084</td>\n",
       "      <td>79.591450</td>\n",
       "      <td>79.144459</td>\n",
       "      <td>79.667108</td>\n",
       "      <td>85.742077</td>\n",
       "      <td>81.860715</td>\n",
       "      <td>83.452876</td>\n",
       "      <td>81.287334</td>\n",
       "      <td>...</td>\n",
       "      <td>83.791776</td>\n",
       "      <td>91.234037</td>\n",
       "      <td>87.624281</td>\n",
       "      <td>85.804136</td>\n",
       "      <td>85.073875</td>\n",
       "      <td>86.804619</td>\n",
       "      <td>90.799198</td>\n",
       "      <td>82.969781</td>\n",
       "      <td>89.931407</td>\n",
       "      <td>85.142106</td>\n",
       "    </tr>\n",
       "    <tr>\n",
       "      <td>...</td>\n",
       "      <td>...</td>\n",
       "      <td>...</td>\n",
       "      <td>...</td>\n",
       "      <td>...</td>\n",
       "      <td>...</td>\n",
       "      <td>...</td>\n",
       "      <td>...</td>\n",
       "      <td>...</td>\n",
       "      <td>...</td>\n",
       "      <td>...</td>\n",
       "      <td>...</td>\n",
       "      <td>...</td>\n",
       "      <td>...</td>\n",
       "      <td>...</td>\n",
       "      <td>...</td>\n",
       "      <td>...</td>\n",
       "      <td>...</td>\n",
       "      <td>...</td>\n",
       "      <td>...</td>\n",
       "      <td>...</td>\n",
       "      <td>...</td>\n",
       "    </tr>\n",
       "    <tr>\n",
       "      <td>2794</td>\n",
       "      <td>3492</td>\n",
       "      <td>0</td>\n",
       "      <td>73.831052</td>\n",
       "      <td>75.415097</td>\n",
       "      <td>78.675700</td>\n",
       "      <td>78.524869</td>\n",
       "      <td>78.299935</td>\n",
       "      <td>76.292582</td>\n",
       "      <td>74.494976</td>\n",
       "      <td>76.295582</td>\n",
       "      <td>...</td>\n",
       "      <td>77.741995</td>\n",
       "      <td>85.248036</td>\n",
       "      <td>82.195230</td>\n",
       "      <td>84.813663</td>\n",
       "      <td>81.172961</td>\n",
       "      <td>81.768571</td>\n",
       "      <td>76.554947</td>\n",
       "      <td>79.906829</td>\n",
       "      <td>79.168791</td>\n",
       "      <td>83.015978</td>\n",
       "    </tr>\n",
       "    <tr>\n",
       "      <td>2795</td>\n",
       "      <td>3494</td>\n",
       "      <td>0</td>\n",
       "      <td>79.848469</td>\n",
       "      <td>78.441750</td>\n",
       "      <td>83.511748</td>\n",
       "      <td>83.218598</td>\n",
       "      <td>78.115557</td>\n",
       "      <td>82.282276</td>\n",
       "      <td>78.756526</td>\n",
       "      <td>77.185545</td>\n",
       "      <td>...</td>\n",
       "      <td>82.784652</td>\n",
       "      <td>93.637826</td>\n",
       "      <td>88.215309</td>\n",
       "      <td>91.333151</td>\n",
       "      <td>93.850324</td>\n",
       "      <td>90.235139</td>\n",
       "      <td>95.728385</td>\n",
       "      <td>96.140856</td>\n",
       "      <td>94.733477</td>\n",
       "      <td>95.680955</td>\n",
       "    </tr>\n",
       "    <tr>\n",
       "      <td>2796</td>\n",
       "      <td>3496</td>\n",
       "      <td>1</td>\n",
       "      <td>72.758663</td>\n",
       "      <td>79.325892</td>\n",
       "      <td>74.629825</td>\n",
       "      <td>76.051489</td>\n",
       "      <td>72.978562</td>\n",
       "      <td>81.327702</td>\n",
       "      <td>76.539977</td>\n",
       "      <td>77.883857</td>\n",
       "      <td>...</td>\n",
       "      <td>82.784967</td>\n",
       "      <td>82.622716</td>\n",
       "      <td>82.460465</td>\n",
       "      <td>82.298215</td>\n",
       "      <td>82.135964</td>\n",
       "      <td>81.973713</td>\n",
       "      <td>81.811462</td>\n",
       "      <td>81.649211</td>\n",
       "      <td>81.486960</td>\n",
       "      <td>81.324709</td>\n",
       "    </tr>\n",
       "    <tr>\n",
       "      <td>2797</td>\n",
       "      <td>3497</td>\n",
       "      <td>3</td>\n",
       "      <td>73.337806</td>\n",
       "      <td>77.200302</td>\n",
       "      <td>75.938591</td>\n",
       "      <td>74.552359</td>\n",
       "      <td>77.648653</td>\n",
       "      <td>77.753417</td>\n",
       "      <td>79.544534</td>\n",
       "      <td>82.831220</td>\n",
       "      <td>...</td>\n",
       "      <td>83.234357</td>\n",
       "      <td>78.916712</td>\n",
       "      <td>82.262023</td>\n",
       "      <td>77.188867</td>\n",
       "      <td>81.450046</td>\n",
       "      <td>80.010225</td>\n",
       "      <td>77.851838</td>\n",
       "      <td>81.744587</td>\n",
       "      <td>74.059119</td>\n",
       "      <td>75.127591</td>\n",
       "    </tr>\n",
       "    <tr>\n",
       "      <td>2798</td>\n",
       "      <td>3498</td>\n",
       "      <td>3</td>\n",
       "      <td>71.547093</td>\n",
       "      <td>70.640566</td>\n",
       "      <td>75.178102</td>\n",
       "      <td>69.373555</td>\n",
       "      <td>71.841017</td>\n",
       "      <td>73.385218</td>\n",
       "      <td>75.097324</td>\n",
       "      <td>75.587896</td>\n",
       "      <td>...</td>\n",
       "      <td>74.229576</td>\n",
       "      <td>73.889046</td>\n",
       "      <td>76.719424</td>\n",
       "      <td>72.556467</td>\n",
       "      <td>77.384318</td>\n",
       "      <td>80.887679</td>\n",
       "      <td>77.238626</td>\n",
       "      <td>71.341897</td>\n",
       "      <td>69.237729</td>\n",
       "      <td>77.220136</td>\n",
       "    </tr>\n",
       "  </tbody>\n",
       "</table>\n",
       "<p>2799 rows × 674 columns</p>\n",
       "</div>"
      ],
      "text/plain": [
       "      subject  age_group  brach_t_0  brach_t_1  brach_t_2  brach_t_3  \\\n",
       "0           0          0  62.564351  53.747516  56.925071  58.866651   \n",
       "1           1          0  75.088914  76.218639  77.348365  78.478090   \n",
       "2           2          1  74.000363  71.772635  73.136652  72.148745   \n",
       "3           5          3  79.105321  75.754364  77.246761  69.883390   \n",
       "4           6          0  79.110084  79.591450  79.144459  79.667108   \n",
       "...       ...        ...        ...        ...        ...        ...   \n",
       "2794     3492          0  73.831052  75.415097  78.675700  78.524869   \n",
       "2795     3494          0  79.848469  78.441750  83.511748  83.218598   \n",
       "2796     3496          1  72.758663  79.325892  74.629825  76.051489   \n",
       "2797     3497          3  73.337806  77.200302  75.938591  74.552359   \n",
       "2798     3498          3  71.547093  70.640566  75.178102  69.373555   \n",
       "\n",
       "      brach_t_4  brach_t_5  brach_t_6  brach_t_7  ...  aorta_t_326  \\\n",
       "0     57.742082  58.623726  59.505370  60.387014  ...    75.389672   \n",
       "1     79.607816  80.737541  81.867267  82.996992  ...    89.087360   \n",
       "2     73.149230  73.408397  79.258698  74.625452  ...    85.012398   \n",
       "3     81.779215  80.695538  79.775038  82.935343  ...    82.820390   \n",
       "4     85.742077  81.860715  83.452876  81.287334  ...    83.791776   \n",
       "...         ...        ...        ...        ...  ...          ...   \n",
       "2794  78.299935  76.292582  74.494976  76.295582  ...    77.741995   \n",
       "2795  78.115557  82.282276  78.756526  77.185545  ...    82.784652   \n",
       "2796  72.978562  81.327702  76.539977  77.883857  ...    82.784967   \n",
       "2797  77.648653  77.753417  79.544534  82.831220  ...    83.234357   \n",
       "2798  71.841017  73.385218  75.097324  75.587896  ...    74.229576   \n",
       "\n",
       "      aorta_t_327  aorta_t_328  aorta_t_329  aorta_t_330  aorta_t_331  \\\n",
       "0       77.975023    72.213031    80.702144    75.202017    76.878189   \n",
       "1       95.670739    91.242212    93.323301    90.106979    93.491525   \n",
       "2       81.802379    81.542184    86.691045    80.115917    81.133328   \n",
       "3       79.766236    77.329335    76.836107    79.570856    76.937290   \n",
       "4       91.234037    87.624281    85.804136    85.073875    86.804619   \n",
       "...           ...          ...          ...          ...          ...   \n",
       "2794    85.248036    82.195230    84.813663    81.172961    81.768571   \n",
       "2795    93.637826    88.215309    91.333151    93.850324    90.235139   \n",
       "2796    82.622716    82.460465    82.298215    82.135964    81.973713   \n",
       "2797    78.916712    82.262023    77.188867    81.450046    80.010225   \n",
       "2798    73.889046    76.719424    72.556467    77.384318    80.887679   \n",
       "\n",
       "      aorta_t_332  aorta_t_333  aorta_t_334  aorta_t_335  \n",
       "0       75.906016    78.648127    71.645146    73.536448  \n",
       "1       90.860328    91.587882    91.098254    90.970382  \n",
       "2       84.461758    76.700464    80.231444    86.387109  \n",
       "3       75.432001    83.340827    83.340925    73.351726  \n",
       "4       90.799198    82.969781    89.931407    85.142106  \n",
       "...           ...          ...          ...          ...  \n",
       "2794    76.554947    79.906829    79.168791    83.015978  \n",
       "2795    95.728385    96.140856    94.733477    95.680955  \n",
       "2796    81.811462    81.649211    81.486960    81.324709  \n",
       "2797    77.851838    81.744587    74.059119    75.127591  \n",
       "2798    77.238626    71.341897    69.237729    77.220136  \n",
       "\n",
       "[2799 rows x 674 columns]"
      ]
     },
     "execution_count": 41,
     "metadata": {},
     "output_type": "execute_result"
    }
   ],
   "source": [
    "train_data"
   ]
  },
  {
   "cell_type": "code",
   "execution_count": 42,
   "metadata": {},
   "outputs": [
    {
     "data": {
      "text/plain": [
       "subject        0\n",
       "age_group      0\n",
       "brach_t_0      0\n",
       "brach_t_1      0\n",
       "brach_t_2      0\n",
       "              ..\n",
       "aorta_t_331    0\n",
       "aorta_t_332    0\n",
       "aorta_t_333    0\n",
       "aorta_t_334    0\n",
       "aorta_t_335    0\n",
       "Length: 674, dtype: int64"
      ]
     },
     "execution_count": 42,
     "metadata": {},
     "output_type": "execute_result"
    }
   ],
   "source": [
    "# checking null values\n",
    "train_data.isnull().sum()"
   ]
  },
  {
   "cell_type": "code",
   "execution_count": 43,
   "metadata": {},
   "outputs": [
    {
     "data": {
      "text/plain": [
       "array([0, 1, 3, 5, 2, 4])"
      ]
     },
     "execution_count": 43,
     "metadata": {},
     "output_type": "execute_result"
    }
   ],
   "source": [
    "train_data['age_group'].unique()"
   ]
  },
  {
   "cell_type": "markdown",
   "metadata": {},
   "source": [
    "### Viewing distribution of data among different age groups"
   ]
  },
  {
   "cell_type": "code",
   "execution_count": 44,
   "metadata": {},
   "outputs": [
    {
     "data": {
      "text/plain": [
       "2    474\n",
       "5    466\n",
       "3    466\n",
       "1    466\n",
       "0    466\n",
       "4    461\n",
       "Name: age_group, dtype: int64"
      ]
     },
     "execution_count": 44,
     "metadata": {},
     "output_type": "execute_result"
    }
   ],
   "source": [
    "train_data['age_group'].value_counts()"
   ]
  },
  {
   "cell_type": "code",
   "execution_count": 45,
   "metadata": {},
   "outputs": [
    {
     "data": {
      "image/png": "[encoded data removed]",
      "text/plain": [
       "<Figure size 864x432 with 1 Axes>"
      ]
     },
     "metadata": {
      "needs_background": "light"
     },
     "output_type": "display_data"
    }
   ],
   "source": [
    "percentages = [count / train_data.shape[0] * 100 for count in train_data['age_group'].value_counts()]\n",
    "\n",
    "fig, ax = plt.subplots(figsize=(12, 6))\n",
    "sns.countplot(\n",
    "    x=train_data['age_group'],\n",
    "    ax=ax,\n",
    "    palette=\"bright\",\n",
    "    order=train_data['age_group'].value_counts().index\n",
    ")\n",
    "ax.set_xticklabels(ax.get_xticklabels(), rotation=15);\n",
    "\n",
    "for percentage, count, p in zip(\n",
    "    percentages,\n",
    "    train_data['age_group'].value_counts(sort=True).values,\n",
    "    ax.patches):\n",
    "    \n",
    "    percentage = f'{np.round(percentage, 2)}%'\n",
    "    x = p.get_x() + p.get_width() / 2 - 0.4\n",
    "    y = p.get_y() + p.get_height()\n",
    "    ax.annotate(str(percentage)+\" / \"+str(count), (x, y), fontsize=12, fontweight='bold')"
   ]
  },
  {
   "cell_type": "markdown",
   "metadata": {},
   "source": [
    "#### Similar distribution amount in different age groups."
   ]
  },
  {
   "cell_type": "code",
   "execution_count": 46,
   "metadata": {},
   "outputs": [],
   "source": [
    "df_0 = train_data[train_data['age_group'] == 0]\n",
    "df_1 = train_data[train_data['age_group'] == 1]\n",
    "df_2 = train_data[train_data['age_group'] == 2]\n",
    "df_3 = train_data[train_data['age_group'] == 3]\n",
    "df_4 = train_data[train_data['age_group'] == 4]\n",
    "df_5 = train_data[train_data['age_group'] == 5]"
   ]
  },
  {
   "cell_type": "code",
   "execution_count": 47,
   "metadata": {},
   "outputs": [],
   "source": [
    "train_df = pd.concat([df_0, df_1, df_2, df_3, df_4, df_5])"
   ]
  },
  {
   "cell_type": "code",
   "execution_count": 48,
   "metadata": {},
   "outputs": [
    {
     "data": {
      "text/html": [
       "<div>\n",
       "<style scoped>\n",
       "    .dataframe tbody tr th:only-of-type {\n",
       "        vertical-align: middle;\n",
       "    }\n",
       "\n",
       "    .dataframe tbody tr th {\n",
       "        vertical-align: top;\n",
       "    }\n",
       "\n",
       "    .dataframe thead th {\n",
       "        text-align: right;\n",
       "    }\n",
       "</style>\n",
       "<table border=\"1\" class=\"dataframe\">\n",
       "  <thead>\n",
       "    <tr style=\"text-align: right;\">\n",
       "      <th></th>\n",
       "      <th>subject</th>\n",
       "      <th>age_group</th>\n",
       "      <th>brach_t_0</th>\n",
       "      <th>brach_t_1</th>\n",
       "      <th>brach_t_2</th>\n",
       "      <th>brach_t_3</th>\n",
       "      <th>brach_t_4</th>\n",
       "      <th>brach_t_5</th>\n",
       "      <th>brach_t_6</th>\n",
       "      <th>brach_t_7</th>\n",
       "      <th>...</th>\n",
       "      <th>aorta_t_326</th>\n",
       "      <th>aorta_t_327</th>\n",
       "      <th>aorta_t_328</th>\n",
       "      <th>aorta_t_329</th>\n",
       "      <th>aorta_t_330</th>\n",
       "      <th>aorta_t_331</th>\n",
       "      <th>aorta_t_332</th>\n",
       "      <th>aorta_t_333</th>\n",
       "      <th>aorta_t_334</th>\n",
       "      <th>aorta_t_335</th>\n",
       "    </tr>\n",
       "  </thead>\n",
       "  <tbody>\n",
       "    <tr>\n",
       "      <td>0</td>\n",
       "      <td>0</td>\n",
       "      <td>0</td>\n",
       "      <td>62.564351</td>\n",
       "      <td>53.747516</td>\n",
       "      <td>56.925071</td>\n",
       "      <td>58.866651</td>\n",
       "      <td>57.742082</td>\n",
       "      <td>58.623726</td>\n",
       "      <td>59.505370</td>\n",
       "      <td>60.387014</td>\n",
       "      <td>...</td>\n",
       "      <td>75.389672</td>\n",
       "      <td>77.975023</td>\n",
       "      <td>72.213031</td>\n",
       "      <td>80.702144</td>\n",
       "      <td>75.202017</td>\n",
       "      <td>76.878189</td>\n",
       "      <td>75.906016</td>\n",
       "      <td>78.648127</td>\n",
       "      <td>71.645146</td>\n",
       "      <td>73.536448</td>\n",
       "    </tr>\n",
       "    <tr>\n",
       "      <td>1</td>\n",
       "      <td>1</td>\n",
       "      <td>0</td>\n",
       "      <td>75.088914</td>\n",
       "      <td>76.218639</td>\n",
       "      <td>77.348365</td>\n",
       "      <td>78.478090</td>\n",
       "      <td>79.607816</td>\n",
       "      <td>80.737541</td>\n",
       "      <td>81.867267</td>\n",
       "      <td>82.996992</td>\n",
       "      <td>...</td>\n",
       "      <td>89.087360</td>\n",
       "      <td>95.670739</td>\n",
       "      <td>91.242212</td>\n",
       "      <td>93.323301</td>\n",
       "      <td>90.106979</td>\n",
       "      <td>93.491525</td>\n",
       "      <td>90.860328</td>\n",
       "      <td>91.587882</td>\n",
       "      <td>91.098254</td>\n",
       "      <td>90.970382</td>\n",
       "    </tr>\n",
       "    <tr>\n",
       "      <td>4</td>\n",
       "      <td>6</td>\n",
       "      <td>0</td>\n",
       "      <td>79.110084</td>\n",
       "      <td>79.591450</td>\n",
       "      <td>79.144459</td>\n",
       "      <td>79.667108</td>\n",
       "      <td>85.742077</td>\n",
       "      <td>81.860715</td>\n",
       "      <td>83.452876</td>\n",
       "      <td>81.287334</td>\n",
       "      <td>...</td>\n",
       "      <td>83.791776</td>\n",
       "      <td>91.234037</td>\n",
       "      <td>87.624281</td>\n",
       "      <td>85.804136</td>\n",
       "      <td>85.073875</td>\n",
       "      <td>86.804619</td>\n",
       "      <td>90.799198</td>\n",
       "      <td>82.969781</td>\n",
       "      <td>89.931407</td>\n",
       "      <td>85.142106</td>\n",
       "    </tr>\n",
       "    <tr>\n",
       "      <td>6</td>\n",
       "      <td>8</td>\n",
       "      <td>0</td>\n",
       "      <td>76.725944</td>\n",
       "      <td>74.883810</td>\n",
       "      <td>79.682331</td>\n",
       "      <td>73.669772</td>\n",
       "      <td>71.994015</td>\n",
       "      <td>71.374981</td>\n",
       "      <td>78.810849</td>\n",
       "      <td>79.427026</td>\n",
       "      <td>...</td>\n",
       "      <td>85.435805</td>\n",
       "      <td>83.077085</td>\n",
       "      <td>82.789703</td>\n",
       "      <td>77.332004</td>\n",
       "      <td>78.945598</td>\n",
       "      <td>83.122979</td>\n",
       "      <td>82.526277</td>\n",
       "      <td>78.785605</td>\n",
       "      <td>76.249369</td>\n",
       "      <td>79.181702</td>\n",
       "    </tr>\n",
       "    <tr>\n",
       "      <td>19</td>\n",
       "      <td>23</td>\n",
       "      <td>0</td>\n",
       "      <td>73.944881</td>\n",
       "      <td>82.908147</td>\n",
       "      <td>73.964480</td>\n",
       "      <td>77.314000</td>\n",
       "      <td>77.175363</td>\n",
       "      <td>77.754981</td>\n",
       "      <td>75.213794</td>\n",
       "      <td>79.655527</td>\n",
       "      <td>...</td>\n",
       "      <td>93.385234</td>\n",
       "      <td>94.175912</td>\n",
       "      <td>91.877728</td>\n",
       "      <td>92.179310</td>\n",
       "      <td>92.865277</td>\n",
       "      <td>89.246450</td>\n",
       "      <td>91.123432</td>\n",
       "      <td>95.570748</td>\n",
       "      <td>93.186086</td>\n",
       "      <td>91.302837</td>\n",
       "    </tr>\n",
       "    <tr>\n",
       "      <td>...</td>\n",
       "      <td>...</td>\n",
       "      <td>...</td>\n",
       "      <td>...</td>\n",
       "      <td>...</td>\n",
       "      <td>...</td>\n",
       "      <td>...</td>\n",
       "      <td>...</td>\n",
       "      <td>...</td>\n",
       "      <td>...</td>\n",
       "      <td>...</td>\n",
       "      <td>...</td>\n",
       "      <td>...</td>\n",
       "      <td>...</td>\n",
       "      <td>...</td>\n",
       "      <td>...</td>\n",
       "      <td>...</td>\n",
       "      <td>...</td>\n",
       "      <td>...</td>\n",
       "      <td>...</td>\n",
       "      <td>...</td>\n",
       "      <td>...</td>\n",
       "    </tr>\n",
       "    <tr>\n",
       "      <td>2741</td>\n",
       "      <td>3415</td>\n",
       "      <td>5</td>\n",
       "      <td>73.953451</td>\n",
       "      <td>68.437283</td>\n",
       "      <td>71.101227</td>\n",
       "      <td>81.468621</td>\n",
       "      <td>76.504671</td>\n",
       "      <td>80.387189</td>\n",
       "      <td>79.759792</td>\n",
       "      <td>84.278965</td>\n",
       "      <td>...</td>\n",
       "      <td>91.037359</td>\n",
       "      <td>90.959268</td>\n",
       "      <td>90.881177</td>\n",
       "      <td>90.803086</td>\n",
       "      <td>90.724995</td>\n",
       "      <td>90.646904</td>\n",
       "      <td>90.568812</td>\n",
       "      <td>90.490721</td>\n",
       "      <td>90.412630</td>\n",
       "      <td>90.334539</td>\n",
       "    </tr>\n",
       "    <tr>\n",
       "      <td>2765</td>\n",
       "      <td>3448</td>\n",
       "      <td>5</td>\n",
       "      <td>80.294496</td>\n",
       "      <td>81.148682</td>\n",
       "      <td>82.002869</td>\n",
       "      <td>82.857055</td>\n",
       "      <td>83.711242</td>\n",
       "      <td>84.565428</td>\n",
       "      <td>85.419615</td>\n",
       "      <td>86.273801</td>\n",
       "      <td>...</td>\n",
       "      <td>79.938321</td>\n",
       "      <td>81.893877</td>\n",
       "      <td>86.818609</td>\n",
       "      <td>85.336495</td>\n",
       "      <td>81.893898</td>\n",
       "      <td>85.029824</td>\n",
       "      <td>82.479948</td>\n",
       "      <td>86.742301</td>\n",
       "      <td>76.324307</td>\n",
       "      <td>83.566605</td>\n",
       "    </tr>\n",
       "    <tr>\n",
       "      <td>2766</td>\n",
       "      <td>3449</td>\n",
       "      <td>5</td>\n",
       "      <td>69.121993</td>\n",
       "      <td>69.101078</td>\n",
       "      <td>63.127660</td>\n",
       "      <td>67.135448</td>\n",
       "      <td>64.625607</td>\n",
       "      <td>70.833419</td>\n",
       "      <td>69.357294</td>\n",
       "      <td>66.815343</td>\n",
       "      <td>...</td>\n",
       "      <td>83.789209</td>\n",
       "      <td>80.373504</td>\n",
       "      <td>79.315987</td>\n",
       "      <td>78.348828</td>\n",
       "      <td>76.480068</td>\n",
       "      <td>80.972486</td>\n",
       "      <td>82.612849</td>\n",
       "      <td>82.021045</td>\n",
       "      <td>80.626501</td>\n",
       "      <td>75.430242</td>\n",
       "    </tr>\n",
       "    <tr>\n",
       "      <td>2767</td>\n",
       "      <td>3451</td>\n",
       "      <td>5</td>\n",
       "      <td>70.354696</td>\n",
       "      <td>73.812782</td>\n",
       "      <td>69.683432</td>\n",
       "      <td>75.284077</td>\n",
       "      <td>71.412673</td>\n",
       "      <td>75.192207</td>\n",
       "      <td>72.978031</td>\n",
       "      <td>75.195402</td>\n",
       "      <td>...</td>\n",
       "      <td>77.323392</td>\n",
       "      <td>86.042894</td>\n",
       "      <td>86.901764</td>\n",
       "      <td>85.918385</td>\n",
       "      <td>78.644282</td>\n",
       "      <td>81.808225</td>\n",
       "      <td>84.982972</td>\n",
       "      <td>80.220004</td>\n",
       "      <td>85.150620</td>\n",
       "      <td>82.517445</td>\n",
       "    </tr>\n",
       "    <tr>\n",
       "      <td>2780</td>\n",
       "      <td>3474</td>\n",
       "      <td>5</td>\n",
       "      <td>73.688202</td>\n",
       "      <td>75.110275</td>\n",
       "      <td>76.532348</td>\n",
       "      <td>77.954421</td>\n",
       "      <td>79.376493</td>\n",
       "      <td>80.798566</td>\n",
       "      <td>81.277489</td>\n",
       "      <td>81.145835</td>\n",
       "      <td>...</td>\n",
       "      <td>90.278206</td>\n",
       "      <td>92.765533</td>\n",
       "      <td>94.478097</td>\n",
       "      <td>90.099893</td>\n",
       "      <td>83.204171</td>\n",
       "      <td>87.885681</td>\n",
       "      <td>86.666209</td>\n",
       "      <td>89.244530</td>\n",
       "      <td>89.122285</td>\n",
       "      <td>89.000040</td>\n",
       "    </tr>\n",
       "  </tbody>\n",
       "</table>\n",
       "<p>2799 rows × 674 columns</p>\n",
       "</div>"
      ],
      "text/plain": [
       "      subject  age_group  brach_t_0  brach_t_1  brach_t_2  brach_t_3  \\\n",
       "0           0          0  62.564351  53.747516  56.925071  58.866651   \n",
       "1           1          0  75.088914  76.218639  77.348365  78.478090   \n",
       "4           6          0  79.110084  79.591450  79.144459  79.667108   \n",
       "6           8          0  76.725944  74.883810  79.682331  73.669772   \n",
       "19         23          0  73.944881  82.908147  73.964480  77.314000   \n",
       "...       ...        ...        ...        ...        ...        ...   \n",
       "2741     3415          5  73.953451  68.437283  71.101227  81.468621   \n",
       "2765     3448          5  80.294496  81.148682  82.002869  82.857055   \n",
       "2766     3449          5  69.121993  69.101078  63.127660  67.135448   \n",
       "2767     3451          5  70.354696  73.812782  69.683432  75.284077   \n",
       "2780     3474          5  73.688202  75.110275  76.532348  77.954421   \n",
       "\n",
       "      brach_t_4  brach_t_5  brach_t_6  brach_t_7  ...  aorta_t_326  \\\n",
       "0     57.742082  58.623726  59.505370  60.387014  ...    75.389672   \n",
       "1     79.607816  80.737541  81.867267  82.996992  ...    89.087360   \n",
       "4     85.742077  81.860715  83.452876  81.287334  ...    83.791776   \n",
       "6     71.994015  71.374981  78.810849  79.427026  ...    85.435805   \n",
       "19    77.175363  77.754981  75.213794  79.655527  ...    93.385234   \n",
       "...         ...        ...        ...        ...  ...          ...   \n",
       "2741  76.504671  80.387189  79.759792  84.278965  ...    91.037359   \n",
       "2765  83.711242  84.565428  85.419615  86.273801  ...    79.938321   \n",
       "2766  64.625607  70.833419  69.357294  66.815343  ...    83.789209   \n",
       "2767  71.412673  75.192207  72.978031  75.195402  ...    77.323392   \n",
       "2780  79.376493  80.798566  81.277489  81.145835  ...    90.278206   \n",
       "\n",
       "      aorta_t_327  aorta_t_328  aorta_t_329  aorta_t_330  aorta_t_331  \\\n",
       "0       77.975023    72.213031    80.702144    75.202017    76.878189   \n",
       "1       95.670739    91.242212    93.323301    90.106979    93.491525   \n",
       "4       91.234037    87.624281    85.804136    85.073875    86.804619   \n",
       "6       83.077085    82.789703    77.332004    78.945598    83.122979   \n",
       "19      94.175912    91.877728    92.179310    92.865277    89.246450   \n",
       "...           ...          ...          ...          ...          ...   \n",
       "2741    90.959268    90.881177    90.803086    90.724995    90.646904   \n",
       "2765    81.893877    86.818609    85.336495    81.893898    85.029824   \n",
       "2766    80.373504    79.315987    78.348828    76.480068    80.972486   \n",
       "2767    86.042894    86.901764    85.918385    78.644282    81.808225   \n",
       "2780    92.765533    94.478097    90.099893    83.204171    87.885681   \n",
       "\n",
       "      aorta_t_332  aorta_t_333  aorta_t_334  aorta_t_335  \n",
       "0       75.906016    78.648127    71.645146    73.536448  \n",
       "1       90.860328    91.587882    91.098254    90.970382  \n",
       "4       90.799198    82.969781    89.931407    85.142106  \n",
       "6       82.526277    78.785605    76.249369    79.181702  \n",
       "19      91.123432    95.570748    93.186086    91.302837  \n",
       "...           ...          ...          ...          ...  \n",
       "2741    90.568812    90.490721    90.412630    90.334539  \n",
       "2765    82.479948    86.742301    76.324307    83.566605  \n",
       "2766    82.612849    82.021045    80.626501    75.430242  \n",
       "2767    84.982972    80.220004    85.150620    82.517445  \n",
       "2780    86.666209    89.244530    89.122285    89.000040  \n",
       "\n",
       "[2799 rows x 674 columns]"
      ]
     },
     "execution_count": 48,
     "metadata": {},
     "output_type": "execute_result"
    }
   ],
   "source": [
    "train_df"
   ]
  },
  {
   "cell_type": "code",
   "execution_count": 49,
   "metadata": {},
   "outputs": [],
   "source": [
    "target_train = train_df['age_group']\n",
    "target_test = test_data['age_group']"
   ]
  },
  {
   "cell_type": "code",
   "execution_count": 50,
   "metadata": {},
   "outputs": [
    {
     "data": {
      "text/plain": [
       "array([0, 1, 2, 3, 4, 5])"
      ]
     },
     "execution_count": 50,
     "metadata": {},
     "output_type": "execute_result"
    }
   ],
   "source": [
    "target_train.unique()"
   ]
  },
  {
   "cell_type": "code",
   "execution_count": 51,
   "metadata": {},
   "outputs": [],
   "source": [
    "# converting category labels w/ one hot encoding (could also just be defined as int)\n",
    "from keras.utils.np_utils import to_categorical\n",
    "y_train = to_categorical(target_train)"
   ]
  },
  {
   "cell_type": "code",
   "execution_count": 52,
   "metadata": {},
   "outputs": [
    {
     "data": {
      "text/plain": [
       "array([[1., 0., 0., 0., 0., 0.],\n",
       "       [1., 0., 0., 0., 0., 0.],\n",
       "       [1., 0., 0., 0., 0., 0.],\n",
       "       ...,\n",
       "       [0., 0., 0., 0., 0., 1.],\n",
       "       [0., 0., 0., 0., 0., 1.],\n",
       "       [0., 0., 0., 0., 0., 1.]], dtype=float32)"
      ]
     },
     "execution_count": 52,
     "metadata": {},
     "output_type": "execute_result"
    }
   ],
   "source": [
    "y_train"
   ]
  },
  {
   "cell_type": "code",
   "execution_count": 53,
   "metadata": {},
   "outputs": [],
   "source": [
    "y_test = to_categorical(target_test)"
   ]
  },
  {
   "cell_type": "code",
   "execution_count": 54,
   "metadata": {},
   "outputs": [],
   "source": [
    "X_train = train_df.iloc[:, 2:].values\n",
    "X_test = test_data.iloc[:, 2:].values"
   ]
  },
  {
   "cell_type": "code",
   "execution_count": 55,
   "metadata": {},
   "outputs": [
    {
     "data": {
      "text/plain": [
       "array([[62.56435145, 53.74751633, 56.92507148, ..., 78.64812672,\n",
       "        71.64514607, 73.53644807],\n",
       "       [75.08891352, 76.21863902, 77.34836452, ..., 91.58788168,\n",
       "        91.09825426, 90.97038162],\n",
       "       [79.11008414, 79.59145024, 79.14445894, ..., 82.96978137,\n",
       "        89.93140722, 85.14210631],\n",
       "       ...,\n",
       "       [69.12199284, 69.10107814, 63.12765967, ..., 82.0210454 ,\n",
       "        80.62650059, 75.43024178],\n",
       "       [70.35469604, 73.81278173, 69.6834317 , ..., 80.22000384,\n",
       "        85.15061964, 82.51744473],\n",
       "       [73.68820197, 75.11027485, 76.53234772, ..., 89.2445297 ,\n",
       "        89.12228503, 89.00004036]])"
      ]
     },
     "execution_count": 55,
     "metadata": {},
     "output_type": "execute_result"
    }
   ],
   "source": [
    "X_train"
   ]
  },
  {
   "cell_type": "code",
   "execution_count": 56,
   "metadata": {},
   "outputs": [
    {
     "data": {
      "text/plain": [
       "(2799, 672)"
      ]
     },
     "execution_count": 56,
     "metadata": {},
     "output_type": "execute_result"
    }
   ],
   "source": [
    "X_train.shape"
   ]
  },
  {
   "cell_type": "markdown",
   "metadata": {},
   "source": [
    "### Need to reshape data to fit into model"
   ]
  },
  {
   "cell_type": "code",
   "execution_count": 57,
   "metadata": {},
   "outputs": [],
   "source": [
    "X_train = X_train.reshape(len(X_train),X_train.shape[1],1)\n",
    "X_test = X_test.reshape(len(X_test),X_test.shape[1],1)"
   ]
  },
  {
   "cell_type": "code",
   "execution_count": 58,
   "metadata": {},
   "outputs": [
    {
     "data": {
      "text/plain": [
       "(2799, 672, 1)"
      ]
     },
     "execution_count": 58,
     "metadata": {},
     "output_type": "execute_result"
    }
   ],
   "source": [
    "X_train.shape"
   ]
  },
  {
   "cell_type": "code",
   "execution_count": 59,
   "metadata": {},
   "outputs": [
    {
     "data": {
      "text/plain": [
       "(700, 672, 1)"
      ]
     },
     "execution_count": 59,
     "metadata": {},
     "output_type": "execute_result"
    }
   ],
   "source": [
    "X_test.shape"
   ]
  },
  {
   "cell_type": "code",
   "execution_count": 60,
   "metadata": {},
   "outputs": [],
   "source": [
    "from keras.models import Sequential\n",
    "from keras.layers import Dense # for fully connected layers dense will be used\n",
    "from keras.layers import Conv1D, MaxPooling1D, Flatten\n",
    "from keras.optimizers import Adam\n",
    "\n",
    "# avoid overfitting by normalizing the samples\n",
    "from keras.layers.normalization import BatchNormalization"
   ]
  },
  {
   "cell_type": "code",
   "execution_count": 61,
   "metadata": {},
   "outputs": [],
   "source": [
    "def build_model():\n",
    "    model = Sequential()\n",
    "    \n",
    "    model.add(Conv1D(filters = 64, kernel_size = 6, activation='relu', padding = 'same', input_shape = (672, 1))) #we pass individual values hence not 100000,187,1\n",
    "    \n",
    "    # Normalization to avoid overfitting\n",
    "    model.add(BatchNormalization())\n",
    "    \n",
    "    # Pooling \n",
    "    model.add(MaxPooling1D(pool_size=(3), strides = (2), padding = 'same'))\n",
    "\n",
    "    model.add(Conv1D(filters = 64, kernel_size = 6, activation='relu', padding = 'same'))\n",
    "    model.add(BatchNormalization())\n",
    "    model.add(MaxPooling1D(pool_size=(3), strides = (2), padding = 'same'))\n",
    "\n",
    "    model.add(Conv1D( filters = 64, kernel_size = 6, activation='relu', padding = 'same'))\n",
    "    model.add(BatchNormalization())\n",
    "    model.add(MaxPooling1D(pool_size=(3), strides = (2), padding = 'same'))\n",
    "\n",
    "    # Flatten \n",
    "    model.add(Flatten())\n",
    "\n",
    "    # Fully connected layer\n",
    "    # input layer\n",
    "    model.add(Dense(units = 64, activation='relu'))\n",
    "    \n",
    "    # Hidden Layer\n",
    "    model.add(Dense(units = 64, activation='relu'))\n",
    "    \n",
    "    # Output Layer\n",
    "    model.add(Dense(units = 6, activation='softmax'))\n",
    "\n",
    "    # loss = 'categorical_crossentropy'\n",
    "    model.compile(optimizer = 'Adam', loss = 'categorical_crossentropy', metrics = ['accuracy'])\n",
    "    return model\n"
   ]
  },
  {
   "cell_type": "code",
   "execution_count": 62,
   "metadata": {},
   "outputs": [],
   "source": [
    "model = build_model()"
   ]
  },
  {
   "cell_type": "code",
   "execution_count": 63,
   "metadata": {},
   "outputs": [
    {
     "name": "stdout",
     "output_type": "stream",
     "text": [
      "Model: \"sequential_1\"\n",
      "_________________________________________________________________\n",
      "Layer (type)                 Output Shape              Param #   \n",
      "=================================================================\n",
      "conv1d_3 (Conv1D)            (None, 672, 64)           448       \n",
      "_________________________________________________________________\n",
      "batch_normalization_3 (Batch (None, 672, 64)           256       \n",
      "_________________________________________________________________\n",
      "max_pooling1d_3 (MaxPooling1 (None, 336, 64)           0         \n",
      "_________________________________________________________________\n",
      "conv1d_4 (Conv1D)            (None, 336, 64)           24640     \n",
      "_________________________________________________________________\n",
      "batch_normalization_4 (Batch (None, 336, 64)           256       \n",
      "_________________________________________________________________\n",
      "max_pooling1d_4 (MaxPooling1 (None, 168, 64)           0         \n",
      "_________________________________________________________________\n",
      "conv1d_5 (Conv1D)            (None, 168, 64)           24640     \n",
      "_________________________________________________________________\n",
      "batch_normalization_5 (Batch (None, 168, 64)           256       \n",
      "_________________________________________________________________\n",
      "max_pooling1d_5 (MaxPooling1 (None, 84, 64)            0         \n",
      "_________________________________________________________________\n",
      "flatten_1 (Flatten)          (None, 5376)              0         \n",
      "_________________________________________________________________\n",
      "dense_3 (Dense)              (None, 64)                344128    \n",
      "_________________________________________________________________\n",
      "dense_4 (Dense)              (None, 64)                4160      \n",
      "_________________________________________________________________\n",
      "dense_5 (Dense)              (None, 6)                 390       \n",
      "=================================================================\n",
      "Total params: 399,174\n",
      "Trainable params: 398,790\n",
      "Non-trainable params: 384\n",
      "_________________________________________________________________\n"
     ]
    }
   ],
   "source": [
    "model.summary()"
   ]
  },
  {
   "cell_type": "code",
   "execution_count": 64,
   "metadata": {},
   "outputs": [
    {
     "data": {
      "text/plain": [
       "(700, 672, 1)"
      ]
     },
     "execution_count": 64,
     "metadata": {},
     "output_type": "execute_result"
    }
   ],
   "source": [
    "X_test.shape"
   ]
  },
  {
   "cell_type": "code",
   "execution_count": 65,
   "metadata": {},
   "outputs": [
    {
     "data": {
      "text/plain": [
       "(700, 6)"
      ]
     },
     "execution_count": 65,
     "metadata": {},
     "output_type": "execute_result"
    }
   ],
   "source": [
    "y_test.shape"
   ]
  },
  {
   "cell_type": "code",
   "execution_count": 66,
   "metadata": {},
   "outputs": [
    {
     "data": {
      "text/plain": [
       "(2799, 672, 1)"
      ]
     },
     "execution_count": 66,
     "metadata": {},
     "output_type": "execute_result"
    }
   ],
   "source": [
    "X_train.shape"
   ]
  },
  {
   "cell_type": "code",
   "execution_count": 67,
   "metadata": {},
   "outputs": [
    {
     "data": {
      "text/plain": [
       "(2799, 6)"
      ]
     },
     "execution_count": 67,
     "metadata": {},
     "output_type": "execute_result"
    }
   ],
   "source": [
    "y_train.shape"
   ]
  },
  {
   "cell_type": "code",
   "execution_count": 68,
   "metadata": {},
   "outputs": [
    {
     "name": "stdout",
     "output_type": "stream",
     "text": [
      "Epoch 1/25\n",
      "88/88 [==============================] - 6s 64ms/step - loss: 1.6170 - accuracy: 0.2997 - val_loss: 11.7761 - val_accuracy: 0.1643\n",
      "Epoch 2/25\n",
      "88/88 [==============================] - 6s 64ms/step - loss: 1.3513 - accuracy: 0.3834 - val_loss: 1.7836 - val_accuracy: 0.2714\n",
      "Epoch 3/25\n",
      "88/88 [==============================] - 5s 62ms/step - loss: 1.2430 - accuracy: 0.4277 - val_loss: 1.5290 - val_accuracy: 0.3343\n",
      "Epoch 4/25\n",
      "88/88 [==============================] - 5s 62ms/step - loss: 1.2160 - accuracy: 0.4366 - val_loss: 1.4017 - val_accuracy: 0.3800\n",
      "Epoch 5/25\n",
      "88/88 [==============================] - 6s 63ms/step - loss: 1.2003 - accuracy: 0.4530 - val_loss: 1.5822 - val_accuracy: 0.3886\n",
      "Epoch 6/25\n",
      "88/88 [==============================] - 6s 64ms/step - loss: 1.1146 - accuracy: 0.4784 - val_loss: 1.2818 - val_accuracy: 0.4643\n",
      "Epoch 7/25\n",
      "88/88 [==============================] - 6s 63ms/step - loss: 1.0738 - accuracy: 0.5020 - val_loss: 1.4259 - val_accuracy: 0.4157\n",
      "Epoch 8/25\n",
      "88/88 [==============================] - 6s 63ms/step - loss: 1.0567 - accuracy: 0.5127 - val_loss: 1.4527 - val_accuracy: 0.4443\n",
      "Epoch 9/25\n",
      "88/88 [==============================] - 5s 62ms/step - loss: 1.0465 - accuracy: 0.5148 - val_loss: 3.5602 - val_accuracy: 0.3257\n",
      "Epoch 10/25\n",
      "88/88 [==============================] - 6s 63ms/step - loss: 1.0314 - accuracy: 0.5195 - val_loss: 2.9401 - val_accuracy: 0.3414\n",
      "Epoch 11/25\n",
      "88/88 [==============================] - 6s 64ms/step - loss: 1.0515 - accuracy: 0.5127 - val_loss: 4.8897 - val_accuracy: 0.3414\n",
      "Epoch 12/25\n",
      "88/88 [==============================] - 8s 87ms/step - loss: 0.9930 - accuracy: 0.5448 - val_loss: 1.3007 - val_accuracy: 0.4500\n",
      "Epoch 13/25\n",
      "88/88 [==============================] - 7s 81ms/step - loss: 0.9724 - accuracy: 0.5545 - val_loss: 2.2698 - val_accuracy: 0.4314\n",
      "Epoch 14/25\n",
      "88/88 [==============================] - 8s 86ms/step - loss: 0.9879 - accuracy: 0.5520 - val_loss: 1.7250 - val_accuracy: 0.3843\n",
      "Epoch 15/25\n",
      "88/88 [==============================] - 6s 66ms/step - loss: 0.9091 - accuracy: 0.5927 - val_loss: 5.7322 - val_accuracy: 0.3171\n",
      "Epoch 16/25\n",
      "88/88 [==============================] - 7s 77ms/step - loss: 0.9097 - accuracy: 0.5859 - val_loss: 2.3176 - val_accuracy: 0.4100\n",
      "Epoch 17/25\n",
      "88/88 [==============================] - 6s 71ms/step - loss: 0.8617 - accuracy: 0.6131 - val_loss: 1.3860 - val_accuracy: 0.4500\n",
      "Epoch 18/25\n",
      "88/88 [==============================] - 6s 67ms/step - loss: 0.8719 - accuracy: 0.6066 - val_loss: 1.6670 - val_accuracy: 0.3943\n",
      "Epoch 19/25\n",
      "88/88 [==============================] - 6s 70ms/step - loss: 0.8248 - accuracy: 0.6281 - val_loss: 1.6422 - val_accuracy: 0.3971\n",
      "Epoch 20/25\n",
      "88/88 [==============================] - 6s 71ms/step - loss: 0.8165 - accuracy: 0.6381 - val_loss: 1.4005 - val_accuracy: 0.4614\n",
      "Epoch 21/25\n",
      "88/88 [==============================] - 6s 66ms/step - loss: 0.7457 - accuracy: 0.6763 - val_loss: 1.1091 - val_accuracy: 0.5286\n",
      "Epoch 22/25\n",
      "88/88 [==============================] - 6s 65ms/step - loss: 0.7208 - accuracy: 0.6956 - val_loss: 6.3471 - val_accuracy: 0.3100\n",
      "Epoch 23/25\n",
      "88/88 [==============================] - 6s 66ms/step - loss: 0.7075 - accuracy: 0.6931 - val_loss: 2.8624 - val_accuracy: 0.3971\n",
      "Epoch 24/25\n",
      "88/88 [==============================] - 6s 65ms/step - loss: 0.6790 - accuracy: 0.7160 - val_loss: 1.2974 - val_accuracy: 0.5114\n",
      "Epoch 25/25\n",
      "88/88 [==============================] - 6s 65ms/step - loss: 0.6519 - accuracy: 0.7285 - val_loss: 1.6047 - val_accuracy: 0.4357\n"
     ]
    }
   ],
   "source": [
    "history = model.fit(X_train, y_train, epochs = 25, batch_size = 32, validation_data=(X_test, y_test))"
   ]
  },
  {
   "cell_type": "code",
   "execution_count": 69,
   "metadata": {},
   "outputs": [
    {
     "name": "stdout",
     "output_type": "stream",
     "text": [
      "22/22 [==============================] - 0s 9ms/step - loss: 1.6047 - accuracy: 0.4357\n"
     ]
    },
    {
     "data": {
      "text/plain": [
       "[1.6047260761260986, 0.4357142746448517]"
      ]
     },
     "execution_count": 69,
     "metadata": {},
     "output_type": "execute_result"
    }
   ],
   "source": [
    "# evaluate test data\n",
    "model.evaluate(X_test, y_test)"
   ]
  },
  {
   "cell_type": "code",
   "execution_count": 70,
   "metadata": {},
   "outputs": [
    {
     "data": {
      "text/plain": [
       "<matplotlib.axes._subplots.AxesSubplot at 0x7fa8baf45190>"
      ]
     },
     "execution_count": 70,
     "metadata": {},
     "output_type": "execute_result"
    },
    {
     "data": {
      "image/png": "[encoded data removed]",
      "text/plain": [
       "<Figure size 432x288 with 1 Axes>"
      ]
     },
     "metadata": {
      "needs_background": "light"
     },
     "output_type": "display_data"
    },
    {
     "data": {
      "image/png": "[encoded data removed]",
      "text/plain": [
       "<Figure size 432x288 with 1 Axes>"
      ]
     },
     "metadata": {
      "needs_background": "light"
     },
     "output_type": "display_data"
    }
   ],
   "source": [
    "# converting history to dataframe to view accuracy performance\n",
    "pd.DataFrame(history.history)\n",
    "pd.DataFrame(history.history)[['accuracy', 'val_accuracy']].plot()\n",
    "pd.DataFrame(history.history)[['loss', 'val_loss']].plot()"
   ]
  },
  {
   "cell_type": "code",
   "execution_count": 71,
   "metadata": {},
   "outputs": [],
   "source": [
    "# Make Prediction\n",
    "predict = model.predict(X_test)"
   ]
  },
  {
   "cell_type": "code",
   "execution_count": 72,
   "metadata": {},
   "outputs": [
    {
     "data": {
      "text/plain": [
       "array([[1.14263894e-05, 1.30721601e-03, 8.32814425e-02, 5.89782476e-01,\n",
       "        2.76904106e-01, 4.87132818e-02],\n",
       "       [9.08778608e-01, 9.01027769e-02, 2.48220400e-04, 8.41002737e-04,\n",
       "        2.37746681e-05, 5.77591072e-06],\n",
       "       [1.85090830e-04, 9.33351144e-02, 2.14983195e-01, 5.97525358e-01,\n",
       "        9.30349007e-02, 9.36297176e-04],\n",
       "       ...,\n",
       "       [8.11876889e-05, 2.71885446e-03, 3.67240250e-01, 4.61271971e-01,\n",
       "        1.62658706e-01, 6.02906384e-03],\n",
       "       [6.29913899e-11, 1.13206772e-06, 8.19472689e-03, 4.38600600e-01,\n",
       "        5.47752440e-01, 5.45116048e-03],\n",
       "       [3.57499863e-11, 4.70865480e-09, 5.66214556e-04, 1.06073655e-02,\n",
       "        2.04615742e-01, 7.84210742e-01]], dtype=float32)"
      ]
     },
     "execution_count": 72,
     "metadata": {},
     "output_type": "execute_result"
    }
   ],
   "source": [
    "predict"
   ]
  },
  {
   "cell_type": "code",
   "execution_count": 73,
   "metadata": {},
   "outputs": [],
   "source": [
    "#for i in range(10):\n",
    "# print(X_test[i], predict[i])"
   ]
  },
  {
   "cell_type": "code",
   "execution_count": 74,
   "metadata": {},
   "outputs": [
    {
     "data": {
      "text/plain": [
       "array([[51, 41, 22,  2,  0,  0],\n",
       "       [ 9, 51, 38, 19,  0,  0],\n",
       "       [ 3, 16, 47, 46,  2,  5],\n",
       "       [ 0,  5, 22, 60, 20,  9],\n",
       "       [ 0,  2,  2, 53, 38, 20],\n",
       "       [ 2,  0,  0,  9, 48, 58]])"
      ]
     },
     "execution_count": 74,
     "metadata": {},
     "output_type": "execute_result"
    }
   ],
   "source": [
    "from sklearn.metrics import classification_report, confusion_matrix\n",
    "yhat = np.argmax(predict, axis = 1)\n",
    "confusion_matrix(np.argmax(y_test, axis = 1), yhat)"
   ]
  },
  {
   "cell_type": "code",
   "execution_count": 75,
   "metadata": {},
   "outputs": [],
   "source": [
    "#plt.figure(figsize=(8,6))\n",
    "#sns.heatmap(confusion_matrix(np.argmax(y_test, axis =1), yhat), annot = True, fmt = '0.0f', cmap= 'RdPu')"
   ]
  },
  {
   "cell_type": "code",
   "execution_count": 76,
   "metadata": {},
   "outputs": [
    {
     "name": "stdout",
     "output_type": "stream",
     "text": [
      "              precision    recall  f1-score   support\n",
      "\n",
      "           0       0.78      0.44      0.56       116\n",
      "           1       0.44      0.44      0.44       117\n",
      "           2       0.36      0.39      0.38       119\n",
      "           3       0.32      0.52      0.39       116\n",
      "           4       0.35      0.33      0.34       115\n",
      "           5       0.63      0.50      0.56       117\n",
      "\n",
      "    accuracy                           0.44       700\n",
      "   macro avg       0.48      0.44      0.44       700\n",
      "weighted avg       0.48      0.44      0.44       700\n",
      "\n"
     ]
    }
   ],
   "source": [
    "print(classification_report(np.argmax(y_test, axis=1), yhat))"
   ]
  },
  {
   "cell_type": "code",
   "execution_count": null,
   "metadata": {},
   "outputs": [],
   "source": []
  },
  {
   "cell_type": "code",
   "execution_count": null,
   "metadata": {},
   "outputs": [],
   "source": []
  },
  {
   "cell_type": "code",
   "execution_count": null,
   "metadata": {},
   "outputs": [],
   "source": []
  }
 ],
 "metadata": {
  "kernelspec": {
   "display_name": "Python 3",
   "language": "python",
   "name": "python3"
  },
  "language_info": {
   "codemirror_mode": {
    "name": "ipython",
    "version": 3
   },
   "file_extension": ".py",
   "mimetype": "text/x-python",
   "name": "python",
   "nbconvert_exporter": "python",
   "pygments_lexer": "ipython3",
   "version": "3.7.4"
  }
 },
 "nbformat": 4,
 "nbformat_minor": 5
}
